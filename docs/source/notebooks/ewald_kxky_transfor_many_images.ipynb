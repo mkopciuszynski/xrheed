{
 "cells": [
  {
   "cell_type": "code",
   "execution_count": null,
   "id": "0",
   "metadata": {},
   "outputs": [],
   "source": [
    "%load_ext autoreload\n",
    "%autoreload 2"
   ]
  },
  {
   "cell_type": "markdown",
   "id": "1",
   "metadata": {},
   "source": [
    "# Multi images transformation to $k_x(k_y)$ space\n"
   ]
  },
  {
   "cell_type": "code",
   "execution_count": null,
   "id": "2",
   "metadata": {},
   "outputs": [],
   "source": [
    "import xrheed\n",
    "from xrheed.io import load_data\n",
    "\n",
    "import matplotlib.pyplot as plt\n",
    "import numpy as np\n",
    "import xarray as xr\n",
    "from pathlib import Path\n",
    "\n",
    "from xrheed.plotting.overview import plot_images\n",
    "from xrheed.preparation.filters import high_pass_filter"
   ]
  },
  {
   "cell_type": "code",
   "execution_count": null,
   "id": "3",
   "metadata": {},
   "outputs": [],
   "source": [
    "image_dir = Path(\"example_data\")\n",
    "image_paths = image_dir.glob(\"Si_111_r3Ag_112_phi_*.raw\")\n",
    "\n",
    "beta = 2.95\n",
    "\n",
    "# Define alphas for each image (include manipulator misalignment)\n",
    "alpha_vect = [30.0, 15.4, 0.0]\n",
    "\n",
    "# Define center position for each image\n",
    "center_xs = [-1.1, -1.1, -1.1]\n",
    "center_ys = [0.2, -0.2, 0.2]\n",
    "\n",
    "rheed_images = []\n",
    "\n",
    "\n",
    "for i, image_path in enumerate(image_paths):\n",
    "    rheed_image = load_data(image_path, plugin=\"dsnp_arpes_raw\")\n",
    "    rheed_image.ri.rotate(-0.4)\n",
    "    \n",
    "    rheed_image.ri.apply_image_center(center_xs[i], center_ys[i])\n",
    "    rheed_image.ri.beta = beta \n",
    "    rheed_image.ri.alpha = alpha_vect[i]\n",
    "\n",
    "    rheed_image.ri.screen_roi_width = 70\n",
    "    rheed_image.ri.screen_roi_height = 60\n",
    "\n",
    "    rheed_image = high_pass_filter(rheed_image, sigma=3.0, threshold=0.7)\n",
    "\n",
    "    rheed_images.append(rheed_image)\n",
    "\n",
    "\n",
    "plot_images(rheed_images, vmin=5, vmax=30)\n",
    "plt.show()\n"
   ]
  },
  {
   "cell_type": "code",
   "execution_count": null,
   "id": "4",
   "metadata": {},
   "outputs": [],
   "source": [
    "from xrheed.kinematics.lattice import Lattice\n",
    "\n",
    "# Crate (r3xr3)R30 reconstruction lattice\n",
    "si_111_r3 = Lattice.from_surface_hex(a=3.84*np.sqrt(3), label='r3')\n",
    "si_111_r3.rotate(30)"
   ]
  },
  {
   "cell_type": "code",
   "execution_count": null,
   "id": "5",
   "metadata": {},
   "outputs": [],
   "source": [
    "from xrheed.kinematics.ewald import Ewald\n",
    "\n",
    "ew_list = []\n",
    "\n",
    "for i in range(len(rheed_images)):\n",
    "    ew = Ewald(si_111_r3, rheed_images[i])\n",
    "    ew.calculate_ewald()\n",
    "    ew_list.append(ew)\n",
    "\n",
    "fig, axs = plt.subplots(3, 1, sharex=True, figsize=(8, 10))\n",
    "\n",
    "for i in range(len(rheed_images)):\n",
    "    ax = axs[i]\n",
    "    ew = ew_list[i]\n",
    "\n",
    "    ew.plot(ax=ax, show_image=True, vmin=7, vmax=20)\n",
    "    ax.set_xlabel('')\n",
    "\n",
    "plt.show()"
   ]
  },
  {
   "cell_type": "code",
   "execution_count": null,
   "id": "6",
   "metadata": {},
   "outputs": [],
   "source": [
    "from xrheed.conversion.image import transform_image_to_kxky"
   ]
  },
  {
   "cell_type": "code",
   "execution_count": null,
   "id": "7",
   "metadata": {},
   "outputs": [],
   "source": [
    "\n",
    "trans_images = []\n",
    "for rheed_image in rheed_images:\n",
    "    trans_image = transform_image_to_kxky(rheed_image, rotate=True)\n",
    "    trans_images.append(trans_image)"
   ]
  },
  {
   "cell_type": "markdown",
   "id": "8",
   "metadata": {},
   "source": [
    "Convert a list to a Dataset"
   ]
  },
  {
   "cell_type": "code",
   "execution_count": null,
   "id": "9",
   "metadata": {},
   "outputs": [],
   "source": [
    "import xarray as xr\n",
    "\n",
    "# Create a dataset from the list of DataArrays\n",
    "trans_image_dataset = xr.concat(trans_images, dim='alpha_vect')\n",
    "\n",
    "# Assign the alpha_vect values to the new dimension\n",
    "trans_image_dataset = trans_image_dataset.assign_coords(alpha_vect=alpha_vect)"
   ]
  },
  {
   "cell_type": "code",
   "execution_count": null,
   "id": "10",
   "metadata": {},
   "outputs": [],
   "source": [
    "fig, axs = plt.subplots(1, len(trans_image_dataset),\n",
    "                         figsize=(10, 4), sharex=True, sharey=True)\n",
    "\n",
    "for idx in range(len(trans_image_dataset)):\n",
    "    ax = axs[idx]\n",
    "    trans_image_dataset.isel(alpha_vect=idx).plot(ax=ax, cmap='gray', add_colorbar=False, vmin=5, vmax=40)\n",
    "\n",
    "    ax.set_facecolor('black')\n",
    "    ax.set_xlim(-3, 3)\n",
    "    ax.set_ylim(-3, 3)\n",
    "    ax.set_aspect(1.0)\n",
    "\n",
    "\n",
    "plt.tight_layout()\n",
    "plt.show()"
   ]
  },
  {
   "cell_type": "markdown",
   "id": "11",
   "metadata": {},
   "source": [
    "Mean the values along alpha dimension"
   ]
  },
  {
   "cell_type": "code",
   "execution_count": null,
   "id": "12",
   "metadata": {},
   "outputs": [],
   "source": [
    "trans_image_mean = trans_image_dataset.mean(dim='alpha_vect')"
   ]
  },
  {
   "cell_type": "code",
   "execution_count": null,
   "id": "13",
   "metadata": {},
   "outputs": [],
   "source": [
    "fig, ax = plt.subplots(1, 1, figsize=(8, 8))\n",
    "\n",
    "trans_image_mean.plot(ax=ax, cmap='gray', add_colorbar=False, vmin=5, vmax=40)\n",
    "\n",
    "ax.set_aspect(1)\n",
    "ax.set_facecolor('black')\n",
    "ax.set_xlim(-6, 6)\n",
    "ax.set_ylim(-6, 6)\n",
    "ax.set_xlabel('$k_x (1/A)')\n",
    "ax.set_xlabel('$k_y (1/A)')\n",
    "\n",
    "plt.show()"
   ]
  },
  {
   "cell_type": "code",
   "execution_count": null,
   "id": "14",
   "metadata": {},
   "outputs": [],
   "source": []
  },
  {
   "cell_type": "markdown",
   "id": "15",
   "metadata": {},
   "source": [
    "- test the last image if it is aligned properly\n",
    "- use Ewald on it\n",
    "\n",
    "then adjust if necesaryy\n",
    "\n",
    "finalyy transform each using rotation enabled\n",
    "\n",
    "merge them into one and use also some lattice symmetry"
   ]
  }
 ],
 "metadata": {
  "kernelspec": {
   "display_name": "Python 3",
   "language": "python",
   "name": "python3"
  },
  "language_info": {
   "codemirror_mode": {
    "name": "ipython",
    "version": 3
   },
   "file_extension": ".py",
   "mimetype": "text/x-python",
   "name": "python",
   "nbconvert_exporter": "python",
   "pygments_lexer": "ipython3",
   "version": "3.12.10"
  }
 },
 "nbformat": 4,
 "nbformat_minor": 5
}
