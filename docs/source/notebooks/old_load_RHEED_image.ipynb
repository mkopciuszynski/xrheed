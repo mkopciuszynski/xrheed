{
 "cells": [
  {
   "cell_type": "markdown",
   "metadata": {},
   "source": [
    "# xRHEED example\n",
    "\n",
    "- Open example RHEED image recorder for Si(111)-(7x7).\n",
    "- Prepare Si-(1x1) lattice.\n",
    "- Plot the (1x1) diffraction spots using Ewald module\n",
    "- Fine adjust the image scale\n",
    "- Test other functions\n",
    "\n"
   ]
  },
  {
   "cell_type": "code",
   "execution_count": null,
   "metadata": {},
   "outputs": [],
   "source": [
    "%load_ext autoreload\n",
    "%autoreload 2\n",
    "\n",
    "%matplotlib inline"
   ]
  },
  {
   "cell_type": "code",
   "execution_count": null,
   "metadata": {},
   "outputs": [],
   "source": [
    "import numpy as np"
   ]
  },
  {
   "cell_type": "code",
   "execution_count": null,
   "metadata": {},
   "outputs": [],
   "source": [
    "from xrheed.ewald.lattice import Lattice\n",
    "\n",
    "si_111 = Lattice.from_bulk_cubic(a=5.43, cubic_type=\"FCC\", plane='111')\n",
    "si_111.rotate(phi=10)\n",
    "si_111.rotate(phi=-10)\n",
    "si_111.plot_real()"
   ]
  },
  {
   "cell_type": "code",
   "execution_count": null,
   "metadata": {},
   "outputs": [],
   "source": [
    "import xrheed\n",
    "from xrheed.io import load_data\n",
    "import matplotlib.pyplot as plt\n",
    "import numpy as np\n",
    "\n",
    "r = load_data(\"example_data/si_111_7x7_112_t2.raw\", plugin=\"umcs_arpes_raw\")\n",
    "r.R.set_center()\n",
    "r.R.hp_sigma = 20\n",
    "r.R.hp_threshold = 0.9\n",
    "\n",
    "r.R.plot_image(hp_filter=True, vmin=0, vmax=50)\n",
    "r.R.theta"
   ]
  },
  {
   "cell_type": "code",
   "execution_count": null,
   "metadata": {},
   "outputs": [],
   "source": [
    "from pyrheed.io import load_data\n",
    "from pyrheed.ewald import Ewald\n",
    "from pyrheed.ewald.lattice import Lattice\n",
    "import matplotlib.pyplot as plt\n",
    "import numpy as np\n",
    "\n",
    "r = load_data(\"example_data/si_111_7x7_112_t2.raw\", plugin=\"umcs_arpes_raw\")\n",
    "r.R.set_center()\n",
    "r.R.hp_sigma = 30\n",
    "r.R.hp_threshold = 0.9\n",
    "\n",
    "r.R.screen_scale = 9.1\n",
    "r.R.theta = 2.2\n",
    "\n",
    "si_111 = Lattice.from_surface(a=3.84*2.67, plane='111')\n",
    "e1 = Ewald(si_111, r)\n",
    "e1.phi = 11\n",
    "e1.lattice_scale = 1.0\n",
    "e1.screen_size_w = 45\n",
    "e1.screen_size_h = 55\n",
    "e1.calculate_ewald()\n",
    "\n",
    "fig, ax = plt.subplots() \n",
    "e1.plot(ax=ax)\n",
    "r.R.plot_image(ax=ax, hp_filter=True,vmin=5, vmax=30)\n",
    "plt.show()"
   ]
  },
  {
   "cell_type": "code",
   "execution_count": null,
   "metadata": {},
   "outputs": [],
   "source": [
    "from pyrheed.io import load_data\n",
    "from pyrheed.ewald import Ewald\n",
    "from pyrheed.ewald.lattice import Lattice\n",
    "import matplotlib.pyplot as plt\n",
    "import numpy as np\n",
    "from scipy.interpolate import UnivariateSpline\n",
    "\n",
    "r = load_data(\"example_data/si_111_7x7_112_t2.raw\", plugin=\"umcs_arpes_raw\")\n",
    "r.R.set_center()\n",
    "r.R.hp_sigma = 20\n",
    "r.R.hp_threshold = 0.9\n",
    "r.R.screen_scale = 9.1\n",
    "r.R.theta = 2.2\n",
    "\n",
    "si_111 = Lattice.from_surface(a=3.84, plane='111')\n",
    "e1 = Ewald(si_111, r)\n",
    "e1.phi = 30\n",
    "e1.lattice_scale = 1.0\n",
    "e1.screen_size_w = 55\n",
    "e1.screen_size_h = 55\n",
    "\n",
    "e1._spot_structure =   np.array([\n",
    "                            [False, True, False],\n",
    "                            [True, True, True],\n",
    "                            [False, True, False]]\n",
    "                            , dtype=bool)\n",
    "\n",
    "scale_vector_1 = np.linspace(0.8, 8, 200)\n",
    "\n",
    "match_vector_1 = e1.match_scale(scale_vector_1)\n",
    "\n",
    "plt.plot(scale_vector_1, match_vector_1)\n",
    "plt.show()"
   ]
  },
  {
   "cell_type": "code",
   "execution_count": null,
   "metadata": {},
   "outputs": [],
   "source": [
    "import pyrheed\n",
    "from pyrheed.io import load_data\n",
    "import matplotlib.pyplot as plt\n",
    "import numpy as np\n",
    "from pyrheed.ewald import Ewald\n",
    "from pyrheed.ewald.lattice import Lattice\n",
    "\n",
    "r = load_data(\"example_data/si_111_7x7_112_t2.raw\", plugin=\"umcs_arpes_raw\")\n",
    "r.R.set_center()\n",
    "r.R.hp_sigma = 20\n",
    "r.R.hp_threshold = 0.9\n",
    "\n",
    "r.R.screen_scale = 9.1\n",
    "r.R.theta = 2.2\n",
    "\n",
    "si_111 = Lattice.from_surface(a=3.84*7, plane='111')\n",
    "e1 = Ewald(si_111, r)\n",
    "\n",
    "e1.screen_size_w = 55\n",
    "e1.screen_size_h = 55\n",
    "e1.phi = 30\n",
    "\n",
    "phi_vector = np.arange(-5, 35, 0.5)\n",
    "phi_vector_2 = np.arange(-5, 35, 0.01)\n",
    "\n",
    "match_vector = e1.match_phi(phi_vector=phi_vector)\n",
    "match_vector_2 = e1.match_phi(phi_vector=phi_vector_2)\n",
    "plt.plot(phi_vector, match_vector)\n",
    "plt.plot(phi_vector_2, match_vector_2)\n",
    "plt.show()\n"
   ]
  },
  {
   "cell_type": "code",
   "execution_count": null,
   "metadata": {},
   "outputs": [],
   "source": [
    "import pyrheed\n",
    "from pyrheed.io import load_data\n",
    "import matplotlib.pyplot as plt\n",
    "import numpy as np\n",
    "from pyrheed.ewald import Ewald\n",
    "from pyrheed.ewald.lattice import Lattice\n",
    "\n",
    "r = load_data(\"example_data/si_111_7x7_112_t2.raw\", plugin=\"umcs_arpes_raw\")\n",
    "r.R.set_center()\n",
    "r.R.hp_sigma = 20\n",
    "r.R.hp_threshold = 0.9\n",
    "\n",
    "r.R.screen_scale = 9.1\n",
    "r.R.theta = 2.2\n",
    "\n",
    "si_111 = Lattice.from_surface(a=3.84, plane='111')\n",
    "e1 = Ewald(si_111, r)\n",
    "\n",
    "e1.screen_size_w = 55\n",
    "e1.screen_size_h = 55\n",
    "e1.phi = 30\n",
    "\n",
    "phi_vector = np.arange(-5, 35, 0.5)\n",
    "scale_vector = np.linspace(0.8, 8, 200)\n",
    "\n",
    "match_matrix = e1.match_phi_scale(phi_vector=phi_vector, scale_vector=scale_vector)\n",
    "#plt.imshow(match_matrix)"
   ]
  },
  {
   "cell_type": "code",
   "execution_count": null,
   "metadata": {},
   "outputs": [],
   "source": [
    "from scipy import ndimage\n",
    "\n",
    "match_norm = match_matrix.copy()\n",
    "match_norm -= 0.9*ndimage.gaussian_filter(match_norm, sigma=20)"
   ]
  },
  {
   "cell_type": "code",
   "execution_count": null,
   "metadata": {},
   "outputs": [],
   "source": [
    "%matplotlib inline\n",
    "\n",
    "\n",
    "extent = (scale_vector[0], scale_vector[-1], phi_vector[0], phi_vector[-1])\n",
    "\n",
    "fig, ax = plt.subplots()\n",
    "cax = ax.imshow(match_matrix, extent=extent, origin=\"lower\", aspect=0.1)\n",
    "fig.colorbar(cax, label=\"Intensity\")\n",
    "\n",
    "ax.set_xlabel('Scale')\n",
    "ax.set_ylabel('Phi')\n",
    "ax.plot(2.67, 11, '.')\n",
    "\n",
    "# Show interactive plot\n",
    "plt.show()"
   ]
  },
  {
   "cell_type": "code",
   "execution_count": null,
   "metadata": {},
   "outputs": [],
   "source": [
    "from pyrheed.ewald import Ewald\n",
    "from pyrheed.ewald.lattice import Lattice\n",
    "\n",
    "\n",
    "si_111 = Lattice.from_bulk(a=5.43, plane='111')\n",
    "#print(si_111)\n",
    "e1 = Ewald(si_111, r)\n",
    "\n",
    "\n",
    "#r.R.screen_scale = 9.1\n",
    "e1.calculate_ewald(phi=90, theta=2.2)\n",
    "\n",
    "\n",
    "fig, ax = plt.subplots() \n",
    "\n",
    "print(e1.calculate_match())\n",
    "\n",
    "\n"
   ]
  },
  {
   "cell_type": "code",
   "execution_count": null,
   "metadata": {},
   "outputs": [],
   "source": [
    "print(e1.pz[0])\n",
    "r.y.min()\n",
    "\n",
    "print(-(e1.pz - r.y.values.max())* r.R.screen_scale)\n",
    "print(-(e1.px - r.x.values.max())* r.R.screen_scale)"
   ]
  }
 ],
 "metadata": {
  "kernelspec": {
   "display_name": "Python 3",
   "language": "python",
   "name": "python3"
  },
  "language_info": {
   "codemirror_mode": {
    "name": "ipython",
    "version": 3
   },
   "file_extension": ".py",
   "mimetype": "text/x-python",
   "name": "python",
   "nbconvert_exporter": "python",
   "pygments_lexer": "ipython3",
   "version": "3.12.4"
  }
 },
 "nbformat": 4,
 "nbformat_minor": 2
}
