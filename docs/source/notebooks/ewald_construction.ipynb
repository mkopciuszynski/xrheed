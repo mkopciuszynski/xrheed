{
 "cells": [
  {
   "cell_type": "code",
   "execution_count": null,
   "id": "0",
   "metadata": {},
   "outputs": [],
   "source": [
    "%load_ext autoreload\n",
    "%autoreload 2"
   ]
  },
  {
   "cell_type": "markdown",
   "id": "1",
   "metadata": {},
   "source": [
    "# RHEED spots calculated using Ewald construction\n",
    "This notebook shows how to use xrheed ewald module to superimpose the calculated spot positions on the RHEED image."
   ]
  },
  {
   "cell_type": "code",
   "execution_count": null,
   "id": "2",
   "metadata": {},
   "outputs": [],
   "source": [
    "import xrheed\n",
    "from xrheed.io import load_data\n",
    "\n",
    "import matplotlib.pyplot as plt\n",
    "import numpy as np\n",
    "import xarray as xr\n",
    "from pathlib import Path"
   ]
  },
  {
   "cell_type": "markdown",
   "id": "3",
   "metadata": {},
   "source": [
    "## Prepare the RHEED image data\n",
    "As an example we use the image recorded from the clean Si(111) surface with (7x7) superstructure. \n",
    "\n",
    "The electron beam was aligned along the $[11 \\bar 2]$ direction. This means that horizontal direction on the RHEED image could be considered as $[1 \\bar 1 0]$."
   ]
  },
  {
   "cell_type": "code",
   "execution_count": null,
   "id": "4",
   "metadata": {},
   "outputs": [],
   "source": [
    "image_dir = Path(\"example_data\")\n",
    "image_path = image_dir / \"Si_111_7x7_112_phi_00.raw\"\n",
    "\n",
    "rheed_image = load_data(image_path, plugin=\"dsnp_arpes_raw\")\n",
    "\n",
    "# Rotate the image\n",
    "rheed_image.ri.rotate(-0.4)\n",
    "\n",
    "# Apply automatic center search again after rotation\n",
    "rheed_image.ri.apply_image_center(auto_center=True)\n",
    "\n",
    "rheed_image.ri.screen_roi_width = 60\n",
    "rheed_image.ri.screen_roi_height = 80\n",
    "\n",
    "# Use automatic levels adjustment\n",
    "rheed_image.ri.plot_image(auto_levels=0.5)\n",
    "\n",
    "plt.show()"
   ]
  },
  {
   "cell_type": "markdown",
   "id": "5",
   "metadata": {},
   "source": [
    "## Prepare the 2D lattice object\n",
    "First we can calculate the position of the (1x1) spots using the hexagonal 2D lattice with the 3.84 A lattice constant.\n",
    "\n",
    "The lattice could be created by using `Lattice` class, where basic vectors of the real space are used in constructor.\n",
    "\n",
    "There are also class other methods:\n",
    " - `from_bulk_cubic` - creates the lattice by providing the bulk lattice constant `a`, the `cubic_type`, and the `plane` (only low index planes are supported).\n",
    " - `from_surface_hex` - create the 2D hexagonal lattice by providing only a surface lattice constant \n",
    "\n",
    " Below all options are presented."
   ]
  },
  {
   "cell_type": "code",
   "execution_count": null,
   "id": "6",
   "metadata": {},
   "outputs": [],
   "source": [
    "from xrheed.kinematics.lattice import Lattice"
   ]
  },
  {
   "cell_type": "code",
   "execution_count": null,
   "id": "7",
   "metadata": {},
   "outputs": [],
   "source": [
    "# create lattice manually \n",
    "lattice = Lattice([3.84, 0], [3.84*0.5, 3.325])\n",
    "\n",
    "# create lattice from a bulk cubic\n",
    "lattice = Lattice.from_bulk_cubic(a=5.43, cubic_type=\"FCC\", plane='111')\n",
    "\n",
    "# create 2d hex lattice using dedicated method\n",
    "lattice = Lattice.from_surface_hex(a=3.84)"
   ]
  },
  {
   "cell_type": "code",
   "execution_count": null,
   "id": "8",
   "metadata": {},
   "outputs": [],
   "source": [
    "si_111_1x1 = Lattice.from_surface_hex(a=3.84)\n",
    "\n",
    "si_111_1x1.plot_real(space_size=7.0)\n",
    "plt.show()"
   ]
  },
  {
   "cell_type": "markdown",
   "id": "9",
   "metadata": {},
   "source": [
    "Show reciprocal lattice (it's generated automatically)"
   ]
  },
  {
   "cell_type": "code",
   "execution_count": null,
   "id": "10",
   "metadata": {},
   "outputs": [],
   "source": [
    "si_111_1x1.plot_reciprocal(space_size=3.0)\n",
    "plt.show()"
   ]
  },
  {
   "cell_type": "markdown",
   "id": "11",
   "metadata": {},
   "source": [
    "The hexagonal lattice is by default generated in a way that the `x` direction (that is close the electron beam direction) corresponds to the $[11\\bar 2]$ direction.\n",
    "\n",
    "If the sample orientation was different, the lattice could be rotated, but it's also possible to provide the `alpha` angle with the RHEED image. In the latter case the lattice will be rotated in Ewald class object.\n",
    "\n",
    "When the lattice is rotated, both real and reciprocal representation that are updated automatically."
   ]
  },
  {
   "cell_type": "markdown",
   "id": "12",
   "metadata": {},
   "source": [
    "## Ewald construction\n",
    "\n",
    "### RHEED experiment geometry\n",
    "The sketch bellow shows the geometry used in `xRHEED` package.\n",
    "\n",
    "![xRHEED geometry](../_static/xRHEED_geometry.svg)\n",
    "\n",
    "To calculate the spot positions for a given lattice and experimental conditions, first we need to calculate the $\\varphi$ and $\\theta$ angles for each crossing point where Ewald sphere intersects with reciprocal lattice rods.\n",
    "\n",
    "Then we use those angles in real space to calculate the $S_x$ and $S_y$ spot positions on the RHEED screen.\n",
    "\n",
    "Those angles are defined in similar way to the spherical coordinate system but, here $\\theta$ is measured in respect to the $x$ axes (instead of $z$ as typically used).\n"
   ]
  },
  {
   "cell_type": "markdown",
   "id": "13",
   "metadata": {},
   "source": [
    "### Ewald sphere in k-space\n",
    "The reciprocal lattice of a 2D real lattice has a form of regularly distributed rods that are normal to a crystal surface plane.\n",
    "\n",
    "The diffraction spots are expected in the directions that are defined by the intersection points of the Ewald sphere and the rods, as shown on the sketch bellow.\n",
    "\n",
    "![Ewald construction](../_static/Ewald_construction.svg)\n",
    "\n",
    "While it is a common practice to show the sample, the screen and Ewald construction on the same sketch, it is misleading while this mixes real and reciprocal dimensions."
   ]
  },
  {
   "cell_type": "markdown",
   "id": "14",
   "metadata": {},
   "source": [
    "### Calculation algorithm for $\\theta $ and $\\varphi$\n",
    "1. Calculate the Ewald sphere radius:\n",
    "$$k_0 = \\sqrt{E} * 0.5123$$\n",
    "2. Generate the reciprocal rods in a (x,y) plane as $g_x$ , $g_y$.\n",
    "3. Shift the reciprocal lattice along the $k_x$ direction to match the specular reflection with the crossing point of lattice rod and the sphere. \n",
    "\n",
    "The shift is calculated using following formula: \n",
    "$$\\delta x = k_0 \\cdot \\cos(\\beta)$$\n",
    "\n",
    "Then we use $k_x$ and $k_y$ for shifted reciprocal lattice points.\n",
    "\n",
    "4. Select only those reciprocal lattice rods that are inside the Ewald sphere (their distance from the center of the sphere is smaller that it's radius). Only those could possibly cross the Ewald sphere. \n",
    "5. Calculate the $r_k$ value for each point. \n",
    "$$r_k = \\sqrt{k_0^2 - k_x^2}$$\n",
    "6. Then, the angles are defined by following relations:\n",
    "$$\\theta = \\arcsin{(r_k / k_0)}$$\n",
    "$$\\phi = \\arccos{(k_x/ r_k)}$$\n",
    "\n",
    "7. Having the $\\theta$ and $\\varphi$ values we can calculate the radius:\n",
    "$$\\rho = L \\cdot \\tan(\\theta) $$\n",
    "where $L$ is a screen-sample distance.\n",
    " \n",
    "Finally (on the screen coordinates $s_x$, $s_y$): \n",
    "$$s_x = \\rho \\cdot \\cos(\\varphi)$$\n",
    "$$s_y = \\rho \\cdot \\sin(\\varphi)$$"
   ]
  },
  {
   "cell_type": "markdown",
   "id": "15",
   "metadata": {},
   "source": [
    "## Ewald class\n",
    "\n",
    "Finally, having two necessary ingredients:\n",
    "- loaded and aligned RHEED image,\n",
    "- lattice object.\n",
    "\n",
    "The spot position can be calculated using kinematic theory (Ewald construction) as shown below. \n",
    "\n",
    "In general the RHEED image is optional, however to calculate the spot position in an real experimental conditions \n",
    "the image is used to provide for example, screen-sample distance, screen scaling, incident theta angle.\n",
    "\n",
    "Please note that, `Ewald` object creates a separate lattice for it's own purpose (this lattice could be easily scaled for precised matching).\n",
    "\n"
   ]
  },
  {
   "cell_type": "code",
   "execution_count": null,
   "id": "16",
   "metadata": {},
   "outputs": [],
   "source": [
    "from xrheed.kinematics.ewald import Ewald"
   ]
  },
  {
   "cell_type": "code",
   "execution_count": null,
   "id": "17",
   "metadata": {},
   "outputs": [],
   "source": [
    "ew_si_111 = Ewald(si_111_1x1, rheed_image)\n",
    "\n",
    "ew_si_111"
   ]
  },
  {
   "cell_type": "code",
   "execution_count": null,
   "id": "18",
   "metadata": {},
   "outputs": [],
   "source": [
    "ew_si_111.calculate_ewald()"
   ]
  },
  {
   "cell_type": "code",
   "execution_count": null,
   "id": "19",
   "metadata": {},
   "outputs": [],
   "source": [
    "fig, ax = plt.subplots()\n",
    "\n",
    "ew_si_111.plot(ax=ax, show_image=True, show_center_lines=False, auto_levels=1.0)\n",
    "plt.show()"
   ]
  },
  {
   "cell_type": "markdown",
   "id": "20",
   "metadata": {},
   "source": [
    "## Fine adjustment\n",
    "\n",
    "As visible on the image above the incident angle is not set properly, also the image scaling sometimes needs to be adjusted as shown below.\n",
    "\n",
    "There are two method available to adjust calculated spot position\n",
    "\n",
    "### Adjust Ewald class\n",
    "For temporary adjustments or relatively simple analysis it is recommended to set attributes: `beta`, `shift_x` and `shift_y`, `fine_scalling` in Ewald object directly.\n",
    "\n",
    " Those attributes are stored separately from the origin RHEED image.\n",
    "\n",
    " ### Adjust the RHEED image\n",
    "If, for example, the `screen_scale` needs to be corrected this should be done directly on RHEED image object, but then the Ewald object has to be recrated. The same applies to the x/y shift of the RHEED image that was described in `Getting started` notebook."
   ]
  },
  {
   "cell_type": "code",
   "execution_count": null,
   "id": "21",
   "metadata": {},
   "outputs": [],
   "source": [
    "ew_si_111"
   ]
  },
  {
   "cell_type": "code",
   "execution_count": null,
   "id": "22",
   "metadata": {},
   "outputs": [],
   "source": [
    "beta = 2.8\n",
    "shift_y = -2.5\n",
    "fine_scalling = 1.0\n",
    "\n",
    "ew_si_111.beta = beta\n",
    "ew_si_111.shift_y = shift_y\n",
    "ew_si_111.fine_scalling = fine_scalling\n",
    "\n",
    "ew_si_111.plot(auto_levels=1.0, marker=\"d\", s=30, alpha=0.3, color=\"c\")\n",
    "plt.show()"
   ]
  },
  {
   "cell_type": "markdown",
   "id": "23",
   "metadata": {},
   "source": [
    "### Adding the reconstruction\n",
    "Having the (1x1) structure well adjusted we can add the (7x7) reconstruction."
   ]
  },
  {
   "cell_type": "code",
   "execution_count": null,
   "id": "24",
   "metadata": {},
   "outputs": [],
   "source": [
    "si_111_7x7 = Lattice.from_surface_hex(a=3.84*7)\n",
    "si_111_7x7.rotate(alpha)\n",
    "si_111_7x7"
   ]
  },
  {
   "cell_type": "markdown",
   "id": "25",
   "metadata": {},
   "source": [
    "Create Ewald object for new lattice, and copy already adjusted attributes."
   ]
  },
  {
   "cell_type": "code",
   "execution_count": null,
   "id": "26",
   "metadata": {},
   "outputs": [],
   "source": [
    "ew_si_111_7x7 = Ewald(si_111_7x7, rheed_image)\n",
    "\n",
    "ew_si_111_7x7.beta = beta\n",
    "ew_si_111_7x7.shift_y = shift_y\n",
    "\n",
    "ew_si_111_7x7.plot(auto_levels=1.0)\n",
    "plt.show()"
   ]
  },
  {
   "cell_type": "markdown",
   "id": "27",
   "metadata": {},
   "source": [
    "## Final image\n",
    "Finally, prepare and save a plot with both reconstructions.\n",
    "\n",
    "For clarity, here we use high pass filtered image."
   ]
  },
  {
   "cell_type": "code",
   "execution_count": null,
   "id": "28",
   "metadata": {},
   "outputs": [],
   "source": [
    "from xrheed.preparation.filters import high_pass_filter\n",
    "\n",
    "sigma = 5.0 # in mm\n",
    "sigma_px = sigma * rheed_image.ri.screen_scale\n",
    "threshold = 0.8\n",
    "\n",
    "hp_rheed_image = high_pass_filter(rheed_image, sigma=sigma, threshold=threshold)\n"
   ]
  },
  {
   "cell_type": "code",
   "execution_count": null,
   "id": "29",
   "metadata": {},
   "outputs": [],
   "source": [
    "cm = 1 / 2.4\n",
    "\n",
    "fig, ax = plt.subplots(figsize=(14 * cm, 10 * cm), constrained_layout=True)\n",
    "\n",
    "hp_rheed_image.ri.plot_image(ax=ax, vmin=10, vmax=22, show_center_lines=False)\n",
    "\n",
    "ew_si_111_7x7.plot(\n",
    "    ax=ax, show_image=False, auto_levels=1.0, marker=\"|\", s=10, alpha=0.7, color=\"y\"\n",
    ")\n",
    "\n",
    "ew_si_111.plot(ax=ax, show_image=False, marker=\"d\", s=40, alpha=0.7, color=\"c\")\n",
    "\n",
    "ax.set_xlabel(\" \")\n",
    "ax.set_ylabel(\" \")\n",
    "ax.set_xticks([])\n",
    "ax.set_yticks([])\n",
    "ax.set_ylim(-80, 0)\n",
    "fig.set_dpi(100)\n",
    "plt.show()\n",
    "# fig.savefig()"
   ]
  }
 ],
 "metadata": {
  "kernelspec": {
   "display_name": "Python 3",
   "language": "python",
   "name": "python3"
  },
  "language_info": {
   "codemirror_mode": {
    "name": "ipython",
    "version": 3
   },
   "file_extension": ".py",
   "mimetype": "text/x-python",
   "name": "python",
   "nbconvert_exporter": "python",
   "pygments_lexer": "ipython3",
   "version": "3.12.10"
  }
 },
 "nbformat": 4,
 "nbformat_minor": 5
}
