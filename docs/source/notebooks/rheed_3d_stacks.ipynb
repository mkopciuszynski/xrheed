{
 "cells": [
  {
   "cell_type": "code",
   "execution_count": null,
   "id": "0",
   "metadata": {},
   "outputs": [],
   "source": [
    "%load_ext autoreload\n",
    "%autoreload 2"
   ]
  },
  {
   "cell_type": "code",
   "execution_count": null,
   "id": "1",
   "metadata": {},
   "outputs": [],
   "source": [
    "import matplotlib.pyplot as plt\n",
    "import numpy as np\n",
    "from pathlib import Path\n",
    "\n",
    "import xrheed\n"
   ]
  },
  {
   "cell_type": "code",
   "execution_count": null,
   "id": "2",
   "metadata": {},
   "outputs": [],
   "source": [
    "image_dir = Path(\"example_data/deposition\")\n",
    "image_paths = list(image_dir.glob(\"*.BMP\"))\n",
    "\n",
    "n_stack = len(image_paths)\n",
    "\n",
    "\n",
    "\n",
    "stack_dim = 'coverage'\n",
    "deposition_rate = 2.54 # Hz per image\n",
    "\n",
    "stack_coordinate = np.linspace(0.0, n_stack * deposition_rate, n_stack)\n"
   ]
  },
  {
   "cell_type": "code",
   "execution_count": null,
   "id": "3",
   "metadata": {},
   "outputs": [],
   "source": [
    "rheed_data = xrheed.load_data(image_paths, plugin=\"dsnp_arpes_bmp\",\n",
    "                              stack_dim=stack_dim,\n",
    "                              stack_coords=stack_coordinate)\n",
    "\n",
    "rheed_data.ri.set_center_manual(center_x=-1.3, center_y=-8)\n",
    "\n",
    "#rheed_data.ri.set_center_manual(center_x=np.linspace(0, 20, n_stack))\n",
    "\n",
    "rheed_data.ri.beta = 1.8\n",
    "\n",
    "rheed_data.ri.plot_image(show_center_lines=True, show_specular_spot=True, auto_levels=0.2)\n",
    "plt.show()\n"
   ]
  },
  {
   "cell_type": "code",
   "execution_count": null,
   "id": "4",
   "metadata": {},
   "outputs": [],
   "source": [
    "profile_2d = rheed_data.ri.get_profile(center=(0,-7), width=50, height=15, \n",
    "                                      show_origin=True, stack_index=25)"
   ]
  },
  {
   "cell_type": "code",
   "execution_count": null,
   "id": "5",
   "metadata": {},
   "outputs": [],
   "source": [
    "profile_2d.plot(vmin=10, vmax=50)"
   ]
  },
  {
   "cell_type": "code",
   "execution_count": null,
   "id": "6",
   "metadata": {},
   "outputs": [],
   "source": [
    "profile_1d = rheed_data.ri.get_profile(center=(-8.5,-9), width=5, height=5, reduce_over=\"both\",\n",
    "                                      show_origin=True, stack_index=5)"
   ]
  },
  {
   "cell_type": "code",
   "execution_count": null,
   "id": "7",
   "metadata": {},
   "outputs": [],
   "source": [
    "profile_1d.plot()"
   ]
  }
 ],
 "metadata": {
  "kernelspec": {
   "display_name": "Python 3",
   "language": "python",
   "name": "python3"
  },
  "language_info": {
   "codemirror_mode": {
    "name": "ipython",
    "version": 3
   },
   "file_extension": ".py",
   "mimetype": "text/x-python",
   "name": "python",
   "nbconvert_exporter": "python",
   "pygments_lexer": "ipython3",
   "version": "3.12.10"
  }
 },
 "nbformat": 4,
 "nbformat_minor": 5
}
