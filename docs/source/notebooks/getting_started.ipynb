{
 "cells": [
  {
   "cell_type": "code",
   "execution_count": null,
   "id": "0",
   "metadata": {},
   "outputs": [],
   "source": [
    "%load_ext autoreload\n",
    "%autoreload 2"
   ]
  },
  {
   "cell_type": "markdown",
   "id": "1",
   "metadata": {},
   "source": [
    "# Getting Started\n",
    "This notebook shows how to use xrheed to load, inspect, and plot an RHEED example image."
   ]
  },
  {
   "cell_type": "markdown",
   "id": "2",
   "metadata": {},
   "source": [
    "## Load xrheed\n",
    "First load xrheed and other useful python modules"
   ]
  },
  {
   "cell_type": "code",
   "execution_count": null,
   "id": "3",
   "metadata": {},
   "outputs": [],
   "source": [
    "import xrheed\n",
    "from xrheed.io import load_data\n",
    "\n",
    "import matplotlib.pyplot as plt\n",
    "import numpy as np\n",
    "import xarray as xr\n",
    "from pathlib import Path"
   ]
  },
  {
   "cell_type": "markdown",
   "id": "4",
   "metadata": {},
   "source": [
    "## Load a RHEED image\n",
    "RHEED images are loaded using provided plugins.\n",
    "\n",
    "A plugin should specify the geometry and properties of the particular RHEED setup, including:\n",
    "- the screen scaling (from pixels to millimeters),\n",
    "- the screen-to-sample distance,\n",
    "- the electron beam energy,\n",
    "- the center of the screen, defined as the midpoint of the line connecting the transmitted beam and the mirror-reflected spot.\n",
    "\n",
    "The x (horizontal) and y (vertical) coordinates of an image are defined in mm, what means that the plugin needs to transform the px values to real image size using proper scaling."
   ]
  },
  {
   "cell_type": "code",
   "execution_count": null,
   "id": "5",
   "metadata": {},
   "outputs": [],
   "source": [
    "image_dir = Path(\"example_data\")\n",
    "image_path = image_dir / \"Si_111_7x7_112_phi_00.raw\"\n",
    "\n",
    "rheed_image = load_data(image_path, plugin=\"dsnp_arpes_raw\")"
   ]
  },
  {
   "cell_type": "markdown",
   "id": "6",
   "metadata": {},
   "source": [
    "The data are loaded into an xarray object, so the built-in methods of this library are available, as shown below."
   ]
  },
  {
   "cell_type": "code",
   "execution_count": null,
   "id": "7",
   "metadata": {},
   "outputs": [],
   "source": [
    "rheed_image.sel(sx=slice(-50, 50), sy=slice(-60, 10)).plot()\n",
    "plt.show()"
   ]
  },
  {
   "cell_type": "markdown",
   "id": "8",
   "metadata": {},
   "source": [
    "## The .ri accessor\n",
    "Tools dedicated to RHEED analysis are available via the .R accessory. Please revere the API to find all available methods/properties.\n",
    "\n",
    "For example, you can access basic properties as shown below."
   ]
  },
  {
   "cell_type": "code",
   "execution_count": null,
   "id": "9",
   "metadata": {},
   "outputs": [],
   "source": [
    "print(rheed_image.ri.beta)\n",
    "print(rheed_image.ri.beam_energy)\n",
    "print(rheed_image.ri.screen_scale)"
   ]
  },
  {
   "cell_type": "markdown",
   "id": "10",
   "metadata": {},
   "source": [
    "## RHEED data preparation\n"
   ]
  },
  {
   "cell_type": "markdown",
   "id": "11",
   "metadata": {},
   "source": [
    "\n",
    "### Set the center of an image\n",
    "Although the plugin used to load the data should provide the information about the screen center, usually we need to know the accurate position of an image centered, that is defined in the following way:\n",
    "- horizontal center `sx=0`, is defined by the line connecting the specular and transited spot,\n",
    "- vertical center `sy=0` is defined at the shadow boundary.\n",
    "\n",
    "Both values depend on the particular RHEED image setup and usually needs to be fine adjusted for each image or image series.\n",
    "\n",
    "#### Manual center\n",
    "The center of an image could be adjusted manually using a method shown bellow."
   ]
  },
  {
   "cell_type": "code",
   "execution_count": null,
   "id": "12",
   "metadata": {},
   "outputs": [],
   "source": [
    "center_x = -0.5  # in mm\n",
    "center_y = 0.5  # in mm\n",
    "\n",
    "fig, ax = plt.subplots()\n",
    "rheed_image.ri.plot_image(ax=ax)\n",
    "ax.plot(center_x, center_y, 'b.')\n",
    "plt.show()"
   ]
  },
  {
   "cell_type": "code",
   "execution_count": null,
   "id": "13",
   "metadata": {},
   "outputs": [],
   "source": [
    "rheed_image.ri.apply_image_center(center_x=center_x,\n",
    "                                  center_y=center_y)\n",
    "\n",
    "rheed_image.ri.plot_image()"
   ]
  },
  {
   "cell_type": "markdown",
   "id": "14",
   "metadata": {},
   "source": [
    "### Automated center search\n",
    "There are two functions in `xrheed.preparation.alignment` that might be used to find vertical and horizontal center.\n",
    "\n",
    "It is recommended to first find the horizontal center using `find_horizontal_center(image)`, apply the correction and then use `find_vertical_center(image)`. \n",
    "\n",
    "Alternatively those functions could be called automatically using, mentioned above accessory `apply_image_center(automatic=True)`.\n",
    "\n",
    "Please note that automatic center search may not work for asymmetric images.\n",
    "\n"
   ]
  },
  {
   "cell_type": "code",
   "execution_count": null,
   "id": "15",
   "metadata": {},
   "outputs": [],
   "source": [
    "from xrheed.preparation.alignment import find_vertical_center, find_horizontal_center\n",
    "\n",
    "# try to find center in horizontal\n",
    "center_x = find_horizontal_center(rheed_image)\n",
    "center_y = find_vertical_center(rheed_image, shadow_edge_width=5.0)\n",
    "\n",
    "print(center_x)\n",
    "print(center_y)\n",
    "\n",
    "# or use automatic center search\n",
    "rheed_image.ri.apply_image_center(auto_center=True)\n",
    "rheed_image.ri.plot_image()\n"
   ]
  },
  {
   "cell_type": "markdown",
   "id": "16",
   "metadata": {},
   "source": [
    "### Set the incident angle\n",
    "The plugin ads some default value a beta - incident, grazing angle, but to use Ewald construction this value should be set manually or calculated as shown bellow.\n",
    "\n",
    "If both: mirror and transition spots are visible on the RHEED image, their position could be used also fur fine adjustment of the shadow edge (`sy = 0.0`) position.\n",
    "\n",
    "Bellow there is an example how to use `find_incident_angle()` functions provided by the `preparation.alignment` module."
   ]
  },
  {
   "cell_type": "code",
   "execution_count": null,
   "id": "17",
   "metadata": {},
   "outputs": [],
   "source": [
    "from xrheed.preparation.alignment import find_incident_angle\n",
    "\n",
    "real_beta = find_incident_angle(rheed_image)"
   ]
  },
  {
   "cell_type": "code",
   "execution_count": null,
   "id": "18",
   "metadata": {},
   "outputs": [],
   "source": [
    "rheed_image.ri.beta = real_beta\n",
    "rheed_image.ri"
   ]
  },
  {
   "cell_type": "markdown",
   "id": "19",
   "metadata": {},
   "source": [
    "## Image rotation"
   ]
  },
  {
   "cell_type": "code",
   "execution_count": null,
   "id": "20",
   "metadata": {},
   "outputs": [],
   "source": [
    "# Create a copy of an image\n",
    "rotated_image = rheed_image.copy()\n",
    "\n",
    "# Rotate the image\n",
    "rotated_image.ri.rotate(-0.4)\n",
    "\n",
    "fig, ax = plt.subplots()\n",
    "rotated_image.ri.plot_image(ax=ax)\n",
    "\n",
    "# add horizontal line to check the rotation alignment\n",
    "ax.axhline(-42.0, color='b', linestyle='--')\n",
    "\n",
    "plt.show()"
   ]
  },
  {
   "cell_type": "code",
   "execution_count": null,
   "id": "21",
   "metadata": {},
   "outputs": [],
   "source": [
    "# Use now the rotated image for further analysis\n",
    "rheed_image = rotated_image\n",
    "\n",
    "# Apply automatic center search again after rotation\n",
    "rheed_image.ri.apply_image_center(auto_center=True)"
   ]
  },
  {
   "cell_type": "markdown",
   "id": "22",
   "metadata": {},
   "source": [
    "## Screen ROI \n",
    "Setup the RHEED image region of interest (ROI) that is used in `plot_image()`"
   ]
  },
  {
   "cell_type": "code",
   "execution_count": null,
   "id": "23",
   "metadata": {},
   "outputs": [],
   "source": [
    "rheed_image.ri.screen_roi_width = 60\n",
    "rheed_image.ri.screen_roi_height = 60\n",
    "\n",
    "# Use automatic levels adjustment\n",
    "# auto_levels: percentage of pixels to clip at both low and high ends. \n",
    "rheed_image.ri.plot_image(auto_levels=2.0)\n",
    "plt.show()"
   ]
  },
  {
   "cell_type": "markdown",
   "id": "24",
   "metadata": {},
   "source": [
    "## High pass filter \n",
    "\n",
    "Use high pass filter to remove homogenous background signal.\n",
    "\n",
    "Adjust `sigma` [in mm] and `threshod` values."
   ]
  },
  {
   "cell_type": "code",
   "execution_count": null,
   "id": "25",
   "metadata": {},
   "outputs": [],
   "source": [
    "from xrheed.preparation.filters import high_pass_filter\n",
    "\n",
    "sigma = 3.0 # in mm\n",
    "sigma_px = sigma * rheed_image.ri.screen_scale\n",
    "threshold = 0.8\n",
    "\n",
    "hp_rheed_image = high_pass_filter(rheed_image, sigma=sigma, threshold=threshold)\n",
    "\n",
    "hp_rheed_image.ri.plot_image(auto_levels=2.0,\n",
    "                            show_center_lines=False)\n",
    "plt.show()"
   ]
  }
 ],
 "metadata": {
  "kernelspec": {
   "display_name": "Python 3",
   "language": "python",
   "name": "python3"
  },
  "language_info": {
   "codemirror_mode": {
    "name": "ipython",
    "version": 3
   },
   "file_extension": ".py",
   "mimetype": "text/x-python",
   "name": "python",
   "nbconvert_exporter": "python",
   "pygments_lexer": "ipython3",
   "version": "3.12.10"
  }
 },
 "nbformat": 4,
 "nbformat_minor": 5
}
