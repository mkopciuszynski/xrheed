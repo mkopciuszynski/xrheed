{
 "cells": [
  {
   "cell_type": "markdown",
   "id": "1d115868",
   "metadata": {},
   "source": [
    "# Getting Started with xRHEED\n",
    "\n",
    "This notebook shows how to use xRHEED to load, inspect, and plot RHEED data."
   ]
  },
  {
   "cell_type": "code",
   "execution_count": null,
   "id": "0b1bc0c3",
   "metadata": {},
   "outputs": [],
   "source": [
    "import xrheed\n",
    "import matplotlib.pyplot as plt"
   ]
  },
  {
   "cell_type": "markdown",
   "id": "9de217dd",
   "metadata": {},
   "source": [
    "## Load a RHEED data file\n",
    "\n",
    "Replace `'your_data_file.dat'` with your file path."
   ]
  },
  {
   "cell_type": "code",
   "execution_count": null,
   "id": "1e9c7a80",
   "metadata": {},
   "outputs": [],
   "source": [
    "data = xrheed.load_rheed('your_data_file.dat')\n",
    "data"
   ]
  },
  {
   "cell_type": "markdown",
   "id": "7531b512",
   "metadata": {},
   "source": [
    "## Plot the data"
   ]
  },
  {
   "cell_type": "code",
   "execution_count": null,
   "id": "8767aab1",
   "metadata": {},
   "outputs": [],
   "source": [
    "data.plot()\n",
    "plt.show()"
   ]
  }
 ],
 "metadata": {
  "kernelspec": {
   "display_name": "Python 3",
   "language": "python",
   "name": "python3"
  },
  "language_info": {
   "name": "python",
   "version": ""
  }
 },
 "nbformat": 4,
 "nbformat_minor": 5
}
