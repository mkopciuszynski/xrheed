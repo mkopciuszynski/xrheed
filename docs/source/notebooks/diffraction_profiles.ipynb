{
 "cells": [
  {
   "cell_type": "code",
   "execution_count": null,
   "id": "0",
   "metadata": {},
   "outputs": [],
   "source": [
    "%load_ext autoreload\n",
    "%autoreload 2"
   ]
  },
  {
   "cell_type": "markdown",
   "id": "1",
   "metadata": {},
   "source": [
    "# RHEED diffraction profiles\n",
    "This notebook shows how to use xrheed to get a diffraction profile from an RHEED image.\n",
    "\n",
    "As shown in `getting_sarted` notebook, first we need to load xrheed library and then the RHEED image."
   ]
  },
  {
   "cell_type": "code",
   "execution_count": null,
   "id": "2",
   "metadata": {},
   "outputs": [],
   "source": [
    "import xrheed\n",
    "from xrheed.io import load_data\n",
    "\n",
    "import matplotlib.pyplot as plt\n",
    "import numpy as np\n",
    "import xarray as xr\n",
    "from pathlib import Path"
   ]
  },
  {
   "cell_type": "code",
   "execution_count": null,
   "id": "3",
   "metadata": {},
   "outputs": [],
   "source": [
    "image_dir = Path(\"example_data\")\n",
    "image_path = image_dir / \"Si_111_7x7_112_phi_00.raw\"\n",
    "\n",
    "rheed_image = load_data(image_path, plugin=\"dsnp_arpes_raw\")\n",
    "print(rheed_image.ri)"
   ]
  },
  {
   "cell_type": "markdown",
   "id": "4",
   "metadata": {},
   "source": [
    "## RHEED data preparation\n",
    "The RHEED image should be aligned by applying rotation if necessary and moved horizontally and vertically to get the image center in proper place."
   ]
  },
  {
   "cell_type": "code",
   "execution_count": null,
   "id": "5",
   "metadata": {},
   "outputs": [],
   "source": [
    "# Create a copy of an image\n",
    "rotated_image = rheed_image.copy()\n",
    "\n",
    "# Rotate the image\n",
    "rotated_image.ri.rotate(-0.4)\n",
    "\n",
    "# Use now the rotated image for further analysis\n",
    "rheed_image = rotated_image\n",
    "\n",
    "# Apply automatic center search again after rotation\n",
    "rheed_image.ri.apply_image_center(auto_center=True)"
   ]
  },
  {
   "cell_type": "markdown",
   "id": "6",
   "metadata": {},
   "source": [
    "For convenience setup the region of interest (ROI) and plot the image."
   ]
  },
  {
   "cell_type": "code",
   "execution_count": null,
   "id": "7",
   "metadata": {},
   "outputs": [],
   "source": [
    "rheed_image.ri.screen_roi_width = 60\n",
    "rheed_image.ri.screen_roi_height = 70\n",
    "\n",
    "# Use automatic levels adjustment\n",
    "rheed_image.ri.plot_image(auto_levels=1.5,\n",
    "                          show_center_lines=False)\n",
    "\n",
    "\n",
    "plt.show()"
   ]
  },
  {
   "cell_type": "markdown",
   "id": "8",
   "metadata": {},
   "source": [
    "## Profile extraction\n",
    "Since the RHEED image is stored as an DataArray the profile could be simply taken using build-in `sel` method as shown bellow. However, it is recommended to use a build in accessory to get a profile as shown later."
   ]
  },
  {
   "cell_type": "code",
   "execution_count": null,
   "id": "9",
   "metadata": {},
   "outputs": [],
   "source": [
    "x_range = (-20, 20)\n",
    "y_range = (-10, 0)\n",
    "\n",
    "profile = rheed_image.sel(sx=slice(*x_range), sy=slice(*y_range)).sum(\"sy\")"
   ]
  },
  {
   "cell_type": "markdown",
   "id": "10",
   "metadata": {},
   "source": [
    "## Profile extraction using the `get_profile` method\n",
    "A `get_profile` method in `ri` accesory could be also used to extract a profile by giving the center point, the width and the height.\n",
    "\n",
    "This funcion can plot a RHEED image with the profile region marked if `plot_origin=True`"
   ]
  },
  {
   "cell_type": "code",
   "execution_count": null,
   "id": "11",
   "metadata": {},
   "outputs": [],
   "source": [
    "profile = rheed_image.ri.get_profile(center=(0, -5), width=40, height=4,\n",
    "                                     plot_origin=True)\n"
   ]
  },
  {
   "cell_type": "code",
   "execution_count": null,
   "id": "12",
   "metadata": {},
   "outputs": [],
   "source": [
    "profile.rp"
   ]
  },
  {
   "cell_type": "markdown",
   "id": "13",
   "metadata": {},
   "source": [
    "A RHEED profile preserves the parent image attributes\n"
   ]
  },
  {
   "cell_type": "code",
   "execution_count": null,
   "id": "14",
   "metadata": {},
   "outputs": [],
   "source": [
    "profile.ri"
   ]
  },
  {
   "cell_type": "markdown",
   "id": "15",
   "metadata": {},
   "source": [
    "## Plot profile function"
   ]
  },
  {
   "cell_type": "code",
   "execution_count": null,
   "id": "16",
   "metadata": {},
   "outputs": [],
   "source": [
    "profile.rp.plot_profile(\n",
    "             transform_to_kx=True,\n",
    "             normalize=True,\n",
    "             color=\"black\", linewidth=1.0\n",
    "             )\n",
    "\n",
    "plt.show()"
   ]
  },
  {
   "cell_type": "markdown",
   "id": "17",
   "metadata": {},
   "source": [
    "## Convert the profile to kx"
   ]
  },
  {
   "cell_type": "code",
   "execution_count": null,
   "id": "18",
   "metadata": {},
   "outputs": [],
   "source": [
    "profile_kx = profile.rp.convert_to_kx()\n",
    "profile_kx.plot()\n",
    "plt.show()"
   ]
  },
  {
   "cell_type": "markdown",
   "id": "19",
   "metadata": {},
   "source": [
    "## Profile fitting\n",
    "Profile could be fitted using `lmfit` as shown in an example bellow."
   ]
  },
  {
   "cell_type": "code",
   "execution_count": null,
   "id": "20",
   "metadata": {},
   "outputs": [],
   "source": [
    "from lmfit.models import LorentzianModel, QuadraticModel\n",
    "\n",
    "x = profile_kx.coords[\"kx\"].values\n",
    "y = profile_kx.values\n",
    "\n",
    "y = y - np.min(y)  # Remove background offset\n",
    "y = y / np.max(y)  # Normalize to the maximum value\n",
    "\n",
    "# Build individual models\n",
    "l1 = LorentzianModel(prefix='l1_')\n",
    "l2 = LorentzianModel(prefix='l2_')\n",
    "bkg = QuadraticModel(prefix='bkg_')\n",
    "\n",
    "# Create composite model\n",
    "model = l1 + l2 + bkg\n",
    "\n",
    "# Initialize parameters\n",
    "params = model.make_params()\n",
    "\n",
    "# Provide reasonable initial guesses\n",
    "params['l1_center'].set(value=-3.0)\n",
    "params['l1_amplitude'].set(value=1.0)\n",
    "params['l1_sigma'].set(value=0.1)\n",
    "\n",
    "params['l2_center'].set(value=3.0)\n",
    "params['l2_amplitude'].set(value=1.0)\n",
    "params['l2_sigma'].set(value=0.1)\n",
    "\n",
    "params['bkg_a'].set(value=-1.0)\n",
    "params['bkg_b'].set(value=0)\n",
    "params['bkg_c'].set(value=0)\n",
    "\n",
    "# Fit\n",
    "result = model.fit(y, params, x=x)\n",
    "result.plot_fit(title=\"Fit of RHEED profile\")\n",
    "plt.show()"
   ]
  },
  {
   "cell_type": "code",
   "execution_count": null,
   "id": "21",
   "metadata": {},
   "outputs": [],
   "source": [
    "peak_distance = (result.params['l2_center'].value - result.params['l1_center'].value) * 0.5\n",
    "\n",
    "print(f\"Mean peak distance from the specular spot in [1-10] direction: {peak_distance:.2f} 1/A\")\n",
    "\n",
    "expected_distance = 4 * np.pi / 3.84 # Expected distance for Si(111)-(1x1) in [110] direction\n",
    "print(f\"Expected distance: {expected_distance:.2f} 1/A\")\n"
   ]
  },
  {
   "cell_type": "markdown",
   "id": "22",
   "metadata": {},
   "source": [
    "The distance between the two peaks can be used to fine adjustment of the screen scale if the expected distance is different than the measured one."
   ]
  },
  {
   "cell_type": "code",
   "execution_count": null,
   "id": "23",
   "metadata": {},
   "outputs": [],
   "source": [
    "import matplotlib.pyplot as plt\n",
    "\n",
    "# Evaluate components\n",
    "comps = result.eval_components(x=x)\n",
    "\n",
    "# Create figure\n",
    "fig, ax = plt.subplots(figsize=(4, 3), tight_layout=True)\n",
    "\n",
    "# Plot data and total fit\n",
    "ax.plot(x, y, 'ko', markersize=2, label=\"Data\")  # black dots for data\n",
    "ax.plot(x, result.best_fit, color='tab:blue', linestyle='-', linewidth=1, label=\"Total Fit\")\n",
    "\n",
    "# Plot Lorentzian components as shaded areas\n",
    "for i, color in zip(range(1, 3), ['tab:blue', 'tab:green', 'tab:purple']):\n",
    "    comp = comps[f'l{i}_']\n",
    "    ax.fill_between(x, comp, color=color, alpha=0.2, label=f\"Lorentzian {i}\")\n",
    "\n",
    "# Plot background as a dashed line\n",
    "ax.plot(x, comps['bkg_'], color='gray', linestyle='--', linewidth=1.0, label=\"Background\")\n",
    "\n",
    "# Labels and styling\n",
    "ax.set_xlabel(\"$k_x$ (1/Å)\", fontsize=10)\n",
    "ax.set_ylabel(\"Normalized Intensity\", fontsize=10)\n",
    "\n",
    "# Legend outside the plot area\n",
    "ax.legend(fontsize=9)\n",
    "ax.set_xlim(-4.5, 4.5)\n",
    "\n",
    "plt.show()"
   ]
  }
 ],
 "metadata": {
  "kernelspec": {
   "display_name": "Python 3",
   "language": "python",
   "name": "python3"
  },
  "language_info": {
   "codemirror_mode": {
    "name": "ipython",
    "version": 3
   },
   "file_extension": ".py",
   "mimetype": "text/x-python",
   "name": "python",
   "nbconvert_exporter": "python",
   "pygments_lexer": "ipython3",
   "version": "3.12.10"
  }
 },
 "nbformat": 4,
 "nbformat_minor": 5
}
