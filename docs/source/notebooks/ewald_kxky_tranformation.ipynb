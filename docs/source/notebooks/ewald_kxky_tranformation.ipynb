{
 "cells": [
  {
   "cell_type": "code",
   "execution_count": null,
   "id": "0",
   "metadata": {},
   "outputs": [],
   "source": [
    "%load_ext autoreload\n",
    "%autoreload 2"
   ]
  },
  {
   "cell_type": "markdown",
   "id": "1",
   "metadata": {},
   "source": [
    "#  Transformation to $k_x(k_y)$ space of the RHEED image\n",
    "This notebook shows how to use `Ewald` module to transform the RHEED image to the $k_x(k_y)$ space."
   ]
  },
  {
   "cell_type": "code",
   "execution_count": null,
   "id": "2",
   "metadata": {},
   "outputs": [],
   "source": [
    "import xrheed\n",
    "from xrheed.io import load_data\n",
    "\n",
    "import matplotlib.pyplot as plt\n",
    "import numpy as np\n",
    "import xarray as xr\n",
    "from pathlib import Path"
   ]
  },
  {
   "cell_type": "markdown",
   "id": "3",
   "metadata": {},
   "source": [
    "## Prepare the RHEED data\n",
    "Although it is not necessary it is recommended to first prepare the RHEED data by proper alignment and also test the spot position with the Ewald calculated points as shown bellow."
   ]
  },
  {
   "cell_type": "code",
   "execution_count": null,
   "id": "4",
   "metadata": {},
   "outputs": [],
   "source": [
    "image_dir = Path(\"example_data\")\n",
    "image_path = image_dir / \"Si_111_7x7_112_phi_00.raw\"\n",
    "\n",
    "rheed_image = load_data(image_path, plugin=\"dsnp_arpes_raw\")\n",
    "\n",
    "# Rotate the image\n",
    "rheed_image.ri.rotate(-0.4)\n",
    "\n",
    "# Apply automatic center search again after rotation\n",
    "rheed_image.ri.apply_image_center(auto_center=True)\n",
    "\n",
    "rheed_image.ri.screen_roi_width = 60\n",
    "rheed_image.ri.screen_roi_height = 80\n",
    "\n",
    "# Use automatic levels adjustment\n",
    "rheed_image.ri.plot_image(auto_levels=0.5)\n",
    "\n",
    "plt.show()"
   ]
  },
  {
   "cell_type": "markdown",
   "id": "5",
   "metadata": {},
   "source": [
    "## Use high-pass filter\n",
    "It is very usefull to use high pass filter before the transformation"
   ]
  },
  {
   "cell_type": "code",
   "execution_count": null,
   "id": "6",
   "metadata": {},
   "outputs": [],
   "source": [
    "from xrheed.preparation.filters import high_pass_filter\n",
    "\n",
    "sigma = 5.0 # in mm\n",
    "threshold = 0.8\n",
    "\n",
    "hp_rheed_image = high_pass_filter(rheed_image, sigma=sigma, threshold=threshold)\n",
    "\n",
    "hp_rheed_image.ri.plot_image(auto_levels=1.0)\n",
    "plt.show()"
   ]
  },
  {
   "cell_type": "code",
   "execution_count": null,
   "id": "7",
   "metadata": {},
   "outputs": [],
   "source": [
    "rheed_image = hp_rheed_image"
   ]
  },
  {
   "cell_type": "markdown",
   "id": "8",
   "metadata": {},
   "source": [
    "## Adjust the beta angle and image vertical shift\n",
    "Although this could be done later in Ewald object it is recommended to setup the image properly before the creation of Ewald class instance. "
   ]
  },
  {
   "cell_type": "code",
   "execution_count": null,
   "id": "9",
   "metadata": {},
   "outputs": [],
   "source": [
    "from xrheed.preparation.alignment import find_incident_angle\n",
    "\n",
    "# apply fine y shift \n",
    "shift_y = -2.4\n",
    "rheed_image.ri.apply_image_center(center_x=0.0,\n",
    "                                  center_y=shift_y)\n",
    "\n",
    "rheed_image.ri.beta = find_incident_angle(rheed_image)"
   ]
  },
  {
   "cell_type": "markdown",
   "id": "10",
   "metadata": {},
   "source": [
    "## Prepare the 2D lattice "
   ]
  },
  {
   "cell_type": "code",
   "execution_count": null,
   "id": "11",
   "metadata": {},
   "outputs": [],
   "source": [
    "from xrheed.kinematics.lattice import Lattice\n",
    "\n",
    "si_111 = Lattice.from_surface_hex(a=3.84)\n",
    "si_111.rotate(30.0)\n",
    "si_111.plot_inverse(space_size=3.5)\n",
    "plt.show()"
   ]
  },
  {
   "cell_type": "markdown",
   "id": "12",
   "metadata": {},
   "source": [
    "## Create an Ewald object\n",
    "Create an instance of Ewald class using generated lattice and RHEED image"
   ]
  },
  {
   "cell_type": "code",
   "execution_count": null,
   "id": "13",
   "metadata": {},
   "outputs": [],
   "source": [
    "from xrheed.kinematics.ewald import Ewald\n",
    "\n",
    "ew_si_111 = Ewald(si_111, rheed_image)\n",
    "\n",
    "ew_si_111"
   ]
  },
  {
   "cell_type": "markdown",
   "id": "14",
   "metadata": {},
   "source": [
    "## RHEED image with calculated spots plot\n",
    "If the RHEED image is properly aligned and scaled (and the lattice matches the real crystal) there should be good match on the image, ash visible bellow."
   ]
  },
  {
   "cell_type": "code",
   "execution_count": null,
   "id": "15",
   "metadata": {},
   "outputs": [],
   "source": [
    "fig, ax = plt.subplots() \n",
    "\n",
    "ew_si_111.calculate_ewald()\n",
    "ew_si_111.plot(ax=ax, \n",
    "               show_image=True,\n",
    "               show_center_lines=False,\n",
    "               auto_levels=1.0)\n",
    "plt.show()"
   ]
  },
  {
   "cell_type": "markdown",
   "id": "16",
   "metadata": {},
   "source": [
    "## Final transformation\n",
    "The image could be transformed using `transform_to_kxky` function. Please note that the result image is no longer an RHEED image and `ri` accesories are not available anymore. Nonetheless, all attributes are copied form origin RHEED image.\n"
   ]
  },
  {
   "cell_type": "code",
   "execution_count": null,
   "id": "17",
   "metadata": {},
   "outputs": [],
   "source": [
    "from xrheed.conversion.base import transform_to_kxky\n",
    "\n",
    "trans_image = transform_to_kxky(rheed_image)\n",
    "\n",
    "fig, ax = plt.subplots() \n",
    "\n",
    "trans_image.plot(ax=ax, vmin=5, vmax=30, add_colorbar=False)\n",
    "ax.set_xlim(-10,10)\n",
    "ax.set_ylim(-2,0)\n",
    "ax.set_aspect(1.0)\n",
    "plt.show()"
   ]
  },
  {
   "cell_type": "markdown",
   "id": "18",
   "metadata": {},
   "source": [
    "## Merging several transformed images"
   ]
  },
  {
   "cell_type": "code",
   "execution_count": null,
   "id": "19",
   "metadata": {},
   "outputs": [],
   "source": [
    "from xrheed.plotting.overview import plot_images\n",
    "\n",
    "\n",
    "image_dir = Path(\"example_data\")\n",
    "image_paths = image_dir.glob(\"Si_111_7x7_112_phi_*.raw\")\n",
    "\n",
    "\n",
    "beta = 2.8\n",
    "center_x = -0.5\n",
    "center_y = 1.0\n",
    "\n",
    "# Define alphas for each image (manipulator misalignment is included here)\n",
    "alphas = np.linspace(0.0, 29.0, 7)\n",
    "rheed_images = []\n",
    "\n",
    "\n",
    "for i, image_path in enumerate(image_paths):\n",
    "    rheed_image = load_data(image_path, plugin=\"dsnp_arpes_raw\")\n",
    "    rheed_image.ri.rotate(-0.4)\n",
    "    \n",
    "    rheed_image.ri.apply_image_center(center_x, center_y)\n",
    "    rheed_image.ri.beta = beta \n",
    "    rheed_image.ri.alpha = alphas[i]\n",
    "\n",
    "    rheed_image = high_pass_filter(rheed_image, sigma=5.0, threshold=0.8)\n",
    "\n",
    "    rheed_images.append(rheed_image)\n",
    "\n",
    "\n",
    "plot_images(rheed_images, ncols=4)\n",
    "\n",
    "plt.show()\n"
   ]
  },
  {
   "cell_type": "markdown",
   "id": "20",
   "metadata": {},
   "source": [
    "- test the last image if it is aligned properly\n",
    "- use Ewald on it\n",
    "\n",
    "then adjust if necesaryy\n",
    "\n",
    "finalyy transform each using rotation enabled\n",
    "\n",
    "merge them into one and use also some lattice symmetry"
   ]
  }
 ],
 "metadata": {
  "kernelspec": {
   "display_name": "Python 3",
   "language": "python",
   "name": "python3"
  },
  "language_info": {
   "codemirror_mode": {
    "name": "ipython",
    "version": 3
   },
   "file_extension": ".py",
   "mimetype": "text/x-python",
   "name": "python",
   "nbconvert_exporter": "python",
   "pygments_lexer": "ipython3",
   "version": "3.12.10"
  }
 },
 "nbformat": 4,
 "nbformat_minor": 5
}
