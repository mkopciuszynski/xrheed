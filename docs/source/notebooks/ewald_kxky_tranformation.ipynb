{
 "cells": [
  {
   "cell_type": "code",
   "execution_count": null,
   "id": "0",
   "metadata": {},
   "outputs": [],
   "source": [
    "%load_ext autoreload\n",
    "%autoreload 2"
   ]
  },
  {
   "cell_type": "markdown",
   "id": "1",
   "metadata": {},
   "source": [
    "#  Transformation to $k_x(k_y)$ space of the RHEED image\n",
    "This notebook shows how to use `Ewald` module to transform the RHEED image to the $k_x(k_y)$ space."
   ]
  },
  {
   "cell_type": "code",
   "execution_count": null,
   "id": "2",
   "metadata": {},
   "outputs": [],
   "source": [
    "import xrheed\n",
    "from xrheed.io import load_data\n",
    "\n",
    "import matplotlib.pyplot as plt\n",
    "import numpy as np\n",
    "import xarray as xr\n",
    "from pathlib import Path"
   ]
  },
  {
   "cell_type": "markdown",
   "id": "3",
   "metadata": {},
   "source": [
    "## Prepare the RHEED data\n",
    "Although it is not necessary it is recommended to first prepare the RHEED data by proper alignment and also test the spot position with the Ewald calculated points as shown bellow."
   ]
  },
  {
   "cell_type": "code",
   "execution_count": null,
   "id": "4",
   "metadata": {},
   "outputs": [],
   "source": [
    "image_dir = Path(\"example_data\")\n",
    "image_path = image_dir / \"Si_111_r3Ag_112_phi_00.raw\"\n",
    "\n",
    "rheed_image = load_data(image_path, plugin=\"dsnp_arpes_raw\")\n",
    "\n",
    "center_x = -1.1\n",
    "center_y = 0.3\n",
    "\n",
    "rheed_image.ri.apply_image_center(center_x, center_y)\n",
    "rheed_image.ri.beta = 2.85\n",
    "\n",
    "rheed_image.ri.screen_roi_width = 60\n",
    "rheed_image.ri.screen_roi_height = 60\n",
    "\n",
    "# Use automatic levels adjustment\n",
    "rheed_image.ri.plot_image(auto_levels=0.5)\n",
    "\n",
    "plt.show()"
   ]
  },
  {
   "cell_type": "markdown",
   "id": "5",
   "metadata": {},
   "source": [
    "## Use high-pass filter\n",
    "It is very usefull to use high pass filter before the transformation"
   ]
  },
  {
   "cell_type": "code",
   "execution_count": null,
   "id": "6",
   "metadata": {},
   "outputs": [],
   "source": [
    "from xrheed.preparation.filters import high_pass_filter\n",
    "\n",
    "sigma = 3.0\n",
    "threshold = 0.7\n",
    "\n",
    "hp_rheed_image = high_pass_filter(rheed_image, sigma=sigma, threshold=threshold)\n",
    "\n",
    "hp_rheed_image.ri.plot_image(auto_levels=1.0)\n",
    "plt.show()"
   ]
  },
  {
   "cell_type": "code",
   "execution_count": null,
   "id": "7",
   "metadata": {},
   "outputs": [],
   "source": [
    "rheed_image = hp_rheed_image"
   ]
  },
  {
   "cell_type": "markdown",
   "id": "8",
   "metadata": {},
   "source": [
    "## Prepare the 2D lattice "
   ]
  },
  {
   "cell_type": "code",
   "execution_count": null,
   "id": "9",
   "metadata": {},
   "outputs": [],
   "source": [
    "from xrheed.kinematics.lattice import Lattice\n",
    "\n",
    "si_111_1x1 = Lattice.from_surface_hex(a=3.84, label=\"1x1\")\n",
    "si_111_1x1.rotate(0.0)\n",
    "\n",
    "si_111_r3 = Lattice.from_surface_hex(a=3.84 * np.sqrt(3), label=\"r3\")\n",
    "si_111_r3.rotate(30.0)\n",
    "\n",
    "fig, ax = plt.subplots()\n",
    "\n",
    "si_111_r3.plot_inverse(ax=ax, space_size=3, s=10, color=\"b\")\n",
    "si_111_1x1.plot_inverse(ax=ax, space_size=3, s=20, color=\"r\")\n",
    "\n",
    "ax.legend(loc='upper right')\n",
    "plt.show()"
   ]
  },
  {
   "cell_type": "markdown",
   "id": "10",
   "metadata": {},
   "source": [
    "## Create an Ewald object\n",
    "Create an instance of Ewald class using generated lattice and RHEED image"
   ]
  },
  {
   "cell_type": "code",
   "execution_count": null,
   "id": "11",
   "metadata": {},
   "outputs": [],
   "source": [
    "from xrheed.kinematics.ewald import Ewald\n",
    "\n",
    "ew_si_111_1x1 = Ewald(si_111_1x1, rheed_image)\n",
    "\n",
    "ew_si_111_1x1"
   ]
  },
  {
   "cell_type": "markdown",
   "id": "12",
   "metadata": {},
   "source": [
    "## RHEED image with calculated spots plot\n",
    "If the RHEED image is properly aligned and scaled (and the lattice matches the real crystal) there should be good match on the image, ash visible bellow."
   ]
  },
  {
   "cell_type": "code",
   "execution_count": null,
   "id": "13",
   "metadata": {},
   "outputs": [],
   "source": [
    "fig, ax = plt.subplots() \n",
    "\n",
    "ew_si_111_1x1.calculate_ewald()\n",
    "ew_si_111_1x1.plot(ax=ax, \n",
    "               show_image=True,\n",
    "               show_center_lines=False,\n",
    "               auto_levels=1.0)\n",
    "plt.show()"
   ]
  },
  {
   "cell_type": "markdown",
   "id": "14",
   "metadata": {},
   "source": [
    "## Final transformation\n",
    "The image could be transformed using `transform_to_kxky` function. Please note that the result image is no longer an RHEED image and `ri` accesories are not available anymore. Nonetheless, all attributes are copied form origin RHEED image.\n"
   ]
  },
  {
   "cell_type": "code",
   "execution_count": null,
   "id": "15",
   "metadata": {},
   "outputs": [],
   "source": [
    "from xrheed.conversion.image import transform_image_to_kxky\n",
    "\n",
    "trans_image = transform_image_to_kxky(rheed_image)\n",
    "\n",
    "fig, ax = plt.subplots() \n",
    "\n",
    "trans_image.plot(ax=ax, vmin=5, vmax=25, add_colorbar=False)\n",
    "\n",
    "ax.set_xlim(-5, 5)\n",
    "ax.set_ylim(-3, 0.2)\n",
    "ax.set_aspect(1.0)\n",
    "plt.show()"
   ]
  },
  {
   "cell_type": "markdown",
   "id": "16",
   "metadata": {},
   "source": [
    "## Plot with the reciprocal lattice"
   ]
  },
  {
   "cell_type": "code",
   "execution_count": null,
   "id": "17",
   "metadata": {},
   "outputs": [],
   "source": [
    "fig, ax = plt.subplots(figsize=(8, 6)) \n",
    "\n",
    "trans_image.plot(ax=ax, vmin=5, vmax=20, add_colorbar=False, cmap='gray')\n",
    "\n",
    "si_111_r3.plot_inverse(ax=ax, facecolors='none', edgecolors='blue', s=20)\n",
    "si_111_1x1.plot_inverse(ax=ax, facecolors='none', edgecolors='red', s=30)\n",
    "\n",
    "ax.set_xlim(-5, 5)\n",
    "ax.set_ylim(-4, 1)\n",
    "ax.set_aspect(1.0)\n",
    "ax.set_facecolor('black') \n",
    "\n",
    "ax.legend(loc='upper right')\n",
    "plt.show()"
   ]
  }
 ],
 "metadata": {
  "kernelspec": {
   "display_name": "Python 3",
   "language": "python",
   "name": "python3"
  },
  "language_info": {
   "codemirror_mode": {
    "name": "ipython",
    "version": 3
   },
   "file_extension": ".py",
   "mimetype": "text/x-python",
   "name": "python",
   "nbconvert_exporter": "python",
   "pygments_lexer": "ipython3",
   "version": "3.12.10"
  }
 },
 "nbformat": 4,
 "nbformat_minor": 5
}
